{
 "cells": [
  {
   "cell_type": "code",
   "execution_count": 1,
   "id": "1e374421",
   "metadata": {},
   "outputs": [
    {
     "name": "stdout",
     "output_type": "stream",
     "text": [
      "welcome to the world of imagination\n"
     ]
    }
   ],
   "source": [
    "print(\"welcome to the world of imagination\")"
   ]
  },
  {
   "cell_type": "code",
   "execution_count": null,
   "id": "dc161b30",
   "metadata": {},
   "outputs": [],
   "source": []
  }
 ],
 "metadata": {
  "kernelspec": {
   "display_name": "Python 3",
   "language": "python",
   "name": "python3"
  },
  "language_info": {
   "codemirror_mode": {
    "name": "ipython",
    "version": 3
   },
   "file_extension": ".py",
   "mimetype": "text/x-python",
   "name": "python",
   "nbconvert_exporter": "python",
   "pygments_lexer": "ipython3",
   "version": "3.8.8"
  }
 },
 "nbformat": 4,
 "nbformat_minor": 5
}
